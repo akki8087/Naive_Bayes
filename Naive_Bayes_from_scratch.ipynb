{
 "cells": [
  {
   "cell_type": "code",
   "execution_count": 15,
   "metadata": {
    "collapsed": true
   },
   "outputs": [],
   "source": [
    "import numpy as np\n",
    "import pandas as pd\n",
    "\n",
    "# read the train and test files\n",
    "data = pd.read_excel('NBD.xlsx')\n",
    "test = pd.read_excel('NBDT.xlsx')"
   ]
  },
  {
   "cell_type": "code",
   "execution_count": 23,
   "metadata": {},
   "outputs": [
    {
     "data": {
      "text/html": [
       "<div>\n",
       "<style>\n",
       "    .dataframe thead tr:only-child th {\n",
       "        text-align: right;\n",
       "    }\n",
       "\n",
       "    .dataframe thead th {\n",
       "        text-align: left;\n",
       "    }\n",
       "\n",
       "    .dataframe tbody tr th {\n",
       "        vertical-align: top;\n",
       "    }\n",
       "</style>\n",
       "<table border=\"1\" class=\"dataframe\">\n",
       "  <thead>\n",
       "    <tr style=\"text-align: right;\">\n",
       "      <th></th>\n",
       "      <th>Person</th>\n",
       "      <th>height</th>\n",
       "      <th>weight</th>\n",
       "      <th>foot size</th>\n",
       "    </tr>\n",
       "  </thead>\n",
       "  <tbody>\n",
       "    <tr>\n",
       "      <th>0</th>\n",
       "      <td>male</td>\n",
       "      <td>6.00</td>\n",
       "      <td>180</td>\n",
       "      <td>12</td>\n",
       "    </tr>\n",
       "    <tr>\n",
       "      <th>1</th>\n",
       "      <td>male</td>\n",
       "      <td>5.92</td>\n",
       "      <td>190</td>\n",
       "      <td>11</td>\n",
       "    </tr>\n",
       "    <tr>\n",
       "      <th>2</th>\n",
       "      <td>male</td>\n",
       "      <td>5.58</td>\n",
       "      <td>170</td>\n",
       "      <td>12</td>\n",
       "    </tr>\n",
       "    <tr>\n",
       "      <th>3</th>\n",
       "      <td>male</td>\n",
       "      <td>5.92</td>\n",
       "      <td>165</td>\n",
       "      <td>10</td>\n",
       "    </tr>\n",
       "    <tr>\n",
       "      <th>4</th>\n",
       "      <td>female</td>\n",
       "      <td>5.00</td>\n",
       "      <td>100</td>\n",
       "      <td>6</td>\n",
       "    </tr>\n",
       "    <tr>\n",
       "      <th>5</th>\n",
       "      <td>female</td>\n",
       "      <td>5.50</td>\n",
       "      <td>150</td>\n",
       "      <td>8</td>\n",
       "    </tr>\n",
       "    <tr>\n",
       "      <th>6</th>\n",
       "      <td>female</td>\n",
       "      <td>5.42</td>\n",
       "      <td>130</td>\n",
       "      <td>7</td>\n",
       "    </tr>\n",
       "    <tr>\n",
       "      <th>7</th>\n",
       "      <td>female</td>\n",
       "      <td>5.75</td>\n",
       "      <td>150</td>\n",
       "      <td>9</td>\n",
       "    </tr>\n",
       "  </tbody>\n",
       "</table>\n",
       "</div>"
      ],
      "text/plain": [
       "   Person  height  weight   foot size\n",
       "0    male    6.00      180         12\n",
       "1    male    5.92      190         11\n",
       "2    male    5.58      170         12\n",
       "3    male    5.92      165         10\n",
       "4  female    5.00      100          6\n",
       "5  female    5.50      150          8\n",
       "6  female    5.42      130          7\n",
       "7  female    5.75      150          9"
      ]
     },
     "execution_count": 23,
     "metadata": {},
     "output_type": "execute_result"
    }
   ],
   "source": [
    "data"
   ]
  },
  {
   "cell_type": "code",
   "execution_count": 16,
   "metadata": {
    "collapsed": true
   },
   "outputs": [],
   "source": [
    "# model\n",
    "def NB(data,t):\n",
    "    import math\n",
    "    y = 'Person'\n",
    "    X = data.iloc[:,1:]\n",
    "    classes = data[y].unique()\n",
    "    clas = {}\n",
    "    \n",
    "    for cl in classes:    \n",
    "        clas[cl] = (data.loc[data[y] == cl])        \n",
    "    \n",
    "    mean ={}\n",
    "    var = {}\n",
    "    prob_class = {}\n",
    "    \n",
    "    for c in classes:\n",
    "        mean[c] = clas[c].mean(axis=0)\n",
    "        var[c] = clas[c].var(axis=0)\n",
    "        prob_class[c] = len(clas[c])/len(data)\n",
    "    \n",
    "    column = list(X.columns)\n",
    "    prob_distribution = {}\n",
    "    \n",
    "    for c in classes:\n",
    "        prob_distribution[c] = {}\n",
    "        for col in column:\n",
    "            prob_distribution[c][col] = (1/(math.sqrt(2*math.pi*var[c][col])))*np.exp(-(test[col]-mean[c][col])**2/(2*var[c][col]))   \n",
    "    \n",
    "    prob_d = {}\n",
    "    for key in prob_distribution:\n",
    "        p_mul = 1\n",
    "        for k in prob_distribution[key]:\n",
    "            p_mul *= prob_distribution[key][k]\n",
    "        prob_d[key] = float(p_mul) * float(prob_class[key])     \n",
    "    \n",
    "    print(max(prob_d, key= prob_d.get))"
   ]
  },
  {
   "cell_type": "code",
   "execution_count": 21,
   "metadata": {
    "collapsed": true
   },
   "outputs": [],
   "source": [
    "# to test on different values.\n",
    "test.iloc[0] =  'NAN',6,150,8"
   ]
  },
  {
   "cell_type": "code",
   "execution_count": 22,
   "metadata": {},
   "outputs": [
    {
     "name": "stdout",
     "output_type": "stream",
     "text": [
      "female\n"
     ]
    }
   ],
   "source": [
    "NB(data,test)"
   ]
  },
  {
   "cell_type": "code",
   "execution_count": 11,
   "metadata": {},
   "outputs": [
    {
     "name": "stdout",
     "output_type": "stream",
     "text": [
      "male\n",
      "male\n",
      "male\n"
     ]
    }
   ],
   "source": [
    "# test \n",
    "for i in range(len(test)):\n",
    "    test = data.iloc[i,1:]\n",
    "    NB(data,test)"
   ]
  },
  {
   "cell_type": "code",
   "execution_count": null,
   "metadata": {
    "collapsed": true
   },
   "outputs": [],
   "source": []
  }
 ],
 "metadata": {
  "kernelspec": {
   "display_name": "Python 3",
   "language": "python",
   "name": "python3"
  },
  "language_info": {
   "codemirror_mode": {
    "name": "ipython",
    "version": 3
   },
   "file_extension": ".py",
   "mimetype": "text/x-python",
   "name": "python",
   "nbconvert_exporter": "python",
   "pygments_lexer": "ipython3",
   "version": "3.6.1"
  }
 },
 "nbformat": 4,
 "nbformat_minor": 2
}
